{
 "cells": [
  {
   "cell_type": "markdown",
   "metadata": {},
   "source": [
    "# Question\n",
    "\n",
    "Body Mass Index (BMI) menentukan sebuah keidealan berat badan terhadap tinggi badan. Berikut adalah formula dari BMI : BMI = weight (kg) ÷ height^2 (m^2)\n",
    "\n",
    "Berikut adalah kategorisasi BMI\n",
    "\n",
    "| BMI                 | Kategori BMI             |   |\n",
    "|---------------------|---------------------------|---|\n",
    "| Kurang dari 15        | Very severely underweight |   |\n",
    "| Diantara 15 dan 16   | Severely underweight      |   |\n",
    "| Diantara 16 dan 18.5 | Underweight               |   |\n",
    "| Diantara 18.5 dan 25 | Normal (healthy weight)   |   |\n",
    "| Diantara 25 dan 30   | Overweight                |   |\n",
    "| Diantara 30 dan 35   | Moderately obese          |   |\n",
    "| Diantara 35 dan 40   | Severely obese            |   |\n",
    "| Over 40             | Very severely obese       |   |\n",
    "\n",
    "Buatlah sebuah program yang memiliki dua variabel berat badan dengan satuan KG, dan tinggi badan dengan satuan CM, kemudian keluaran dari program adalah Kategori BMI"
   ]
  },
  {
   "cell_type": "markdown",
   "metadata": {},
   "source": [
    "---\n",
    "\n",
    "# Answer"
   ]
  },
  {
   "cell_type": "markdown",
   "metadata": {},
   "source": [
    "## Data Input"
   ]
  },
  {
   "cell_type": "code",
   "execution_count": 14,
   "metadata": {},
   "outputs": [],
   "source": [
    "weight = 78\n",
    "height = 168"
   ]
  },
  {
   "cell_type": "markdown",
   "metadata": {},
   "source": [
    "## Body Mass Index (BMI)"
   ]
  },
  {
   "cell_type": "code",
   "execution_count": 15,
   "metadata": {},
   "outputs": [],
   "source": [
    "# height cm to m\n",
    "height /= 100\n",
    "\n",
    "# Calculate BMI\n",
    "bmi = weight / height ** 2"
   ]
  },
  {
   "cell_type": "markdown",
   "metadata": {},
   "source": [
    "## Result"
   ]
  },
  {
   "cell_type": "code",
   "execution_count": 16,
   "metadata": {},
   "outputs": [
    {
     "name": "stdout",
     "output_type": "stream",
     "text": [
      "Overweight\n"
     ]
    }
   ],
   "source": [
    "result = \"\"\n",
    "\n",
    "if bmi < 15:\n",
    "    result = \"Very severely underweight\"\n",
    "elif bmi < 16:\n",
    "    result = \"Severely underweight\"\n",
    "elif bmi < 18.5:\n",
    "    result = \"Underweight\"\n",
    "elif bmi < 25:\n",
    "    result = \"Normal (healthy weight)\"\n",
    "elif bmi < 30:\n",
    "    result = \"Overweight\"\n",
    "elif bmi < 35:\n",
    "    result = \"Moderately obese\"\n",
    "elif bmi < 40:\n",
    "    result = \"Severely obese\"\n",
    "else:\n",
    "    result = \"Very severely obese\"\n",
    "    \n",
    "print(result)"
   ]
  }
 ],
 "metadata": {
  "hide_input": false,
  "kernelspec": {
   "display_name": "Python 3",
   "language": "python",
   "name": "python3"
  },
  "language_info": {
   "codemirror_mode": {
    "name": "ipython",
    "version": 3
   },
   "file_extension": ".py",
   "mimetype": "text/x-python",
   "name": "python",
   "nbconvert_exporter": "python",
   "pygments_lexer": "ipython3",
   "version": "3.7.7"
  },
  "toc": {
   "base_numbering": 1,
   "nav_menu": {},
   "number_sections": true,
   "sideBar": true,
   "skip_h1_title": false,
   "title_cell": "Table of Contents",
   "title_sidebar": "Contents",
   "toc_cell": false,
   "toc_position": {},
   "toc_section_display": true,
   "toc_window_display": false
  },
  "varInspector": {
   "cols": {
    "lenName": 16,
    "lenType": 16,
    "lenVar": 40
   },
   "kernels_config": {
    "python": {
     "delete_cmd_postfix": "",
     "delete_cmd_prefix": "del ",
     "library": "var_list.py",
     "varRefreshCmd": "print(var_dic_list())"
    },
    "r": {
     "delete_cmd_postfix": ") ",
     "delete_cmd_prefix": "rm(",
     "library": "var_list.r",
     "varRefreshCmd": "cat(var_dic_list()) "
    }
   },
   "types_to_exclude": [
    "module",
    "function",
    "builtin_function_or_method",
    "instance",
    "_Feature"
   ],
   "window_display": false
  }
 },
 "nbformat": 4,
 "nbformat_minor": 4
}
