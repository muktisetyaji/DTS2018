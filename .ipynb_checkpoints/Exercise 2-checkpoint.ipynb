{
 "cells": [
  {
   "cell_type": "markdown",
   "metadata": {},
   "source": [
    "> **Note**. In this exercise we are prohibited from importing/using any package except from the question itself (random package)."
   ]
  },
  {
   "cell_type": "markdown",
   "metadata": {
    "hide_input": false
   },
   "source": [
    "# Exercise 1"
   ]
  },
  {
   "cell_type": "markdown",
   "metadata": {},
   "source": [
    "## Question\n",
    "\n",
    "tugas = [66,77,88,99,55,54]\n",
    "\n",
    "- Tampilkan Nilai dari list nilai yang Lebih dari sama dengan (>=) rata-ratanya.\n",
    "- Tampilkan nilai dari list tugas yang Genap "
   ]
  },
  {
   "cell_type": "markdown",
   "metadata": {},
   "source": [
    "## Answer"
   ]
  },
  {
   "cell_type": "markdown",
   "metadata": {},
   "source": [
    "### Data Input"
   ]
  },
  {
   "cell_type": "code",
   "execution_count": 1,
   "metadata": {},
   "outputs": [],
   "source": [
    "tugas = [66,77,88,99,55,54]"
   ]
  },
  {
   "cell_type": "markdown",
   "metadata": {},
   "source": [
    "### Result"
   ]
  },
  {
   "cell_type": "code",
   "execution_count": 2,
   "metadata": {},
   "outputs": [
    {
     "name": "stdout",
     "output_type": "stream",
     "text": [
      "66\n",
      "88\n",
      "54\n"
     ]
    }
   ],
   "source": [
    "for x in tugas:\n",
    "    \n",
    "    if x % 2 == 0:\n",
    "        print(x)"
   ]
  },
  {
   "cell_type": "code",
   "execution_count": 3,
   "metadata": {},
   "outputs": [
    {
     "name": "stdout",
     "output_type": "stream",
     "text": [
      "77\n",
      "88\n",
      "99\n"
     ]
    }
   ],
   "source": [
    "for x in tugas:\n",
    "    if x >= sum(tugas) / len(tugas):\n",
    "        print(x)"
   ]
  },
  {
   "cell_type": "markdown",
   "metadata": {},
   "source": [
    "# Exercise 2"
   ]
  },
  {
   "cell_type": "markdown",
   "metadata": {},
   "source": [
    "## Question\n",
    "\n",
    "Diberikan sekumpulan Nilai Random antara 0 sampai dengan 100 sebanyak 250 nilai. Buatlah program untuk melakukan hal berikut:\n",
    "1. Tampilkan Angka Ganjil dari ke 250 nilai tersebut\n",
    "2. Tampilkan berapa banyak yang mendapatkan nilai lebih dari 70\n",
    "3. Tampilkan standar deviasi dari sekumpulan nilai tersebut\n",
    "4. Tampilkan nilai maksimum dan minimum\n",
    "5. Tampilkan modus dari sekumpulan nilai tersebut"
   ]
  },
  {
   "cell_type": "markdown",
   "metadata": {},
   "source": [
    "### Generate Data"
   ]
  },
  {
   "cell_type": "code",
   "execution_count": 4,
   "metadata": {},
   "outputs": [
    {
     "name": "stdout",
     "output_type": "stream",
     "text": [
      "[24, 82, 29, 62, 95, 42, 84, 8, 69, 22, 42, 77, 97, 78, 92, 78, 86, 23, 62, 63, 60, 35, 23, 52, 81, 14, 70, 93, 48, 49, 91, 60, 12, 84, 35, 75, 35, 47, 18, 88, 11, 82, 59, 33, 85, 57, 83, 71, 15, 78, 88, 32, 42, 28, 5, 84, 51, 25, 66, 92, 83, 28, 82, 26, 88, 7, 31, 62, 67, 95, 34, 28, 90, 61, 17, 6, 52, 2, 93, 64, 40, 79, 7, 9, 18, 36, 74, 83, 44, 97, 66, 70, 12, 72, 78, 16, 89, 84, 39, 73, 39, 59, 51, 81, 40, 48, 61, 76, 7, 24, 42, 79, 39, 51, 83, 46, 72, 87, 11, 91, 97, 38, 20, 74, 69, 49, 40, 30, 65, 45, 50, 1, 92, 42, 49, 7, 4, 48, 42, 83, 80, 73, 36, 61, 98, 18, 94, 21, 77, 18, 81, 42, 6, 28, 12, 7, 60, 99, 4, 8, 12, 20, 97, 82, 92, 84, 73, 9, 66, 18, 28, 20, 78, 23, 67, 50, 41, 83, 92, 70, 56, 26, 14, 13, 97, 11, 25, 86, 98, 28, 62, 58, 44, 72, 4, 64, 7, 60, 48, 94, 25, 92, 77, 45, 48, 56, 22, 56, 74, 17, 18, 75, 81, 56, 1, 40, 90, 76, 81, 29, 22, 38, 96, 65, 75, 23, 22, 73, 68, 35, 54, 7, 58, 68, 55, 7, 36, 23, 9, 20, 99, 71, 84, 78, 61, 6, 58, 39, 14, 62]\n"
     ]
    }
   ],
   "source": [
    "import random\n",
    "\n",
    "# GENERATE RANDOM\n",
    "nilaiTugas = []\n",
    "for i in range(250):\n",
    "    nilaiTugas.append(random.randrange(1,100,1))\n",
    "\n",
    "print(nilaiTugas)"
   ]
  },
  {
   "cell_type": "markdown",
   "metadata": {
    "heading_collapsed": true
   },
   "source": [
    "## Answer"
   ]
  },
  {
   "cell_type": "markdown",
   "metadata": {
    "hidden": true
   },
   "source": [
    "### Result"
   ]
  },
  {
   "cell_type": "markdown",
   "metadata": {
    "hidden": true
   },
   "source": [
    "#### Tampilkan Angka Ganjil dari ke 250 nilai tersebut"
   ]
  },
  {
   "cell_type": "code",
   "execution_count": 5,
   "metadata": {
    "hidden": true
   },
   "outputs": [
    {
     "name": "stdout",
     "output_type": "stream",
     "text": [
      "29, 95, 69, 77, 97, 23, 63, 35, 23, 81, 93, 49, 91, 35, 75, 35, 47, 11, 59, 33, 85, 57, 83, 71, 15, 5, 51, 25, 83, 7, 31, 67, 95, 61, 17, 93, 79, 7, 9, 83, 97, 89, 39, 73, 39, 59, 51, 81, 61, 7, 79, 39, 51, 83, 87, 11, 91, 97, 69, 49, 65, 45, 1, 49, 7, 83, 73, 61, 21, 77, 81, 7, 99, 97, 73, 9, 23, 67, 41, 83, 13, 97, 11, 25, 7, 25, 77, 45, 17, 75, 81, 1, 81, 29, 65, 75, 23, 73, 35, 7, 55, 7, 23, 9, 99, 71, 61, 39, "
     ]
    }
   ],
   "source": [
    "for nilai in nilaiTugas:\n",
    "    if nilai % 2 == 1:\n",
    "        print(nilai, end=', ')"
   ]
  },
  {
   "cell_type": "markdown",
   "metadata": {
    "hidden": true
   },
   "source": [
    "#### Tampilkan berapa banyak yang mendapatkan nilai lebih dari 70"
   ]
  },
  {
   "cell_type": "code",
   "execution_count": 6,
   "metadata": {
    "hidden": true
   },
   "outputs": [
    {
     "name": "stdout",
     "output_type": "stream",
     "text": [
      "82, 95, 84, 77, 97, 78, 92, 78, 86, 81, 93, 91, 84, 75, 88, 82, 85, 83, 71, 78, 88, 84, 92, 83, 82, 88, 95, 90, 93, 79, 74, 83, 97, 72, 78, 89, 84, 73, 81, 76, 79, 83, 72, 87, 91, 97, 74, 92, 83, 80, 73, 98, 94, 77, 81, 99, 97, 82, 92, 84, 73, 78, 83, 92, 97, 86, 98, 72, 94, 92, 77, 74, 75, 81, 90, 76, 81, 96, 75, 73, 99, 71, 84, 78, "
     ]
    }
   ],
   "source": [
    "for nilai in nilaiTugas:\n",
    "    if nilai > 70:\n",
    "        print(nilai, end=', ')"
   ]
  },
  {
   "cell_type": "markdown",
   "metadata": {
    "hidden": true
   },
   "source": [
    "#### Tampilkan standar deviasi dari sekumpulan nilai tersebut"
   ]
  },
  {
   "cell_type": "code",
   "execution_count": 7,
   "metadata": {
    "hidden": true
   },
   "outputs": [
    {
     "name": "stdout",
     "output_type": "stream",
     "text": [
      "28.70254707922872\n"
     ]
    }
   ],
   "source": [
    "s = (sum([(x - sum(nilaiTugas) / len(nilaiTugas)) ** 2 for x in nilaiTugas]) / (len(nilaiTugas) - 1)) ** 0.5\n",
    "print(s)"
   ]
  },
  {
   "cell_type": "markdown",
   "metadata": {
    "hidden": true
   },
   "source": [
    "#### Tampilkan nilai maksimum dan minimum"
   ]
  },
  {
   "cell_type": "code",
   "execution_count": 8,
   "metadata": {
    "hidden": true
   },
   "outputs": [
    {
     "name": "stdout",
     "output_type": "stream",
     "text": [
      "99 1\n"
     ]
    }
   ],
   "source": [
    "print(max(nilaiTugas), min(nilaiTugas))"
   ]
  },
  {
   "cell_type": "markdown",
   "metadata": {
    "hidden": true
   },
   "source": [
    "#### Tampilkan modus dari sekumpulan nilai tersebut\n",
    "\n",
    "we have two options to tackle this problem one, by using either list or dictionary"
   ]
  },
  {
   "cell_type": "code",
   "execution_count": 9,
   "metadata": {
    "hidden": true
   },
   "outputs": [
    {
     "name": "stdout",
     "output_type": "stream",
     "text": [
      "7\n"
     ]
    }
   ],
   "source": [
    "# using list\n",
    "mod = 0\n",
    "maxc = 0\n",
    "\n",
    "for n in range(min(nilaiTugas), max(nilaiTugas) + 1):\n",
    "    if nilaiTugas.count(n) >= maxc:\n",
    "        maxc = nilaiTugas.count(n)\n",
    "        mod = n\n",
    "    \n",
    "print(mod)"
   ]
  },
  {
   "cell_type": "code",
   "execution_count": 10,
   "metadata": {
    "hidden": true
   },
   "outputs": [
    {
     "name": "stdout",
     "output_type": "stream",
     "text": [
      "[7]\n"
     ]
    }
   ],
   "source": [
    "# using dict\n",
    "ncount = {}\n",
    "\n",
    "for nilai in nilaiTugas:\n",
    "    ncount.setdefault(nilai, 0)\n",
    "    ncount[nilai] += 1\n",
    "    \n",
    "print([k for k, v in ncount.items() if v == max(ncount.values())])"
   ]
  },
  {
   "cell_type": "markdown",
   "metadata": {},
   "source": [
    "# Exercise 3"
   ]
  },
  {
   "cell_type": "markdown",
   "metadata": {},
   "source": [
    "## Question\n",
    "\n",
    "Diberikan sebuah paragraf, hitunglah banyak kemunculan masing-masing kata.\n",
    "Contoh : \"Presiden pagi ini melakukan kunjungan ke Jogja\"\n",
    "\n",
    "- presiden: 1\n",
    "- pagi: 1\n",
    "- ini: 1\n",
    "- melakukan: 1\n",
    "- kunjungan: 1\n",
    "- ke: 1\n",
    "- jogja: 1"
   ]
  },
  {
   "cell_type": "markdown",
   "metadata": {},
   "source": [
    "## Answer"
   ]
  },
  {
   "cell_type": "markdown",
   "metadata": {},
   "source": [
    "### Data Input"
   ]
  },
  {
   "cell_type": "code",
   "execution_count": 11,
   "metadata": {},
   "outputs": [],
   "source": [
    "text = \"Barcelona berhasil merebut posisi puncak klasemen La Liga Spanyol seusai menang 4-2 atas Sevilla pada pertandingan pekan kesembilan di Stadion Camp Nou, Sabtu (20/10/2018) atau Minggu dini hari WIB. Barcelona membuka keunggulan pada menit ke-2 melalui gol yang dicetak oleh Philippe Coutinho. Lionel Messi menggandakan keunggulan Barcelona, 10 menit berselang.  Namun, nahas bagi Barcelona, karena Messi harus ditarik keluar pada menit ke-26 setelah mengalami cedera. Tanpa Messi, skor 2-0 bertahan hingga babak pertama berakhir.\""
   ]
  },
  {
   "cell_type": "markdown",
   "metadata": {},
   "source": [
    "### Result"
   ]
  },
  {
   "cell_type": "code",
   "execution_count": 12,
   "metadata": {},
   "outputs": [
    {
     "name": "stdout",
     "output_type": "stream",
     "text": [
      "{'Barcelona': 2, 'berhasil': 1, 'merebut': 1, 'posisi': 1, 'puncak': 1, 'klasemen': 1, 'La': 1, 'Liga': 1, 'Spanyol': 1, 'seusai': 1, 'menang': 1, '4-2': 1, 'atas': 1, 'Sevilla': 1, 'pada': 3, 'pertandingan': 1, 'pekan': 1, 'kesembilan': 1, 'di': 1, 'Stadion': 1, 'Camp': 1, 'Nou,': 1, 'Sabtu': 1, '(20/10/2018)': 1, 'atau': 1, 'Minggu': 1, 'dini': 1, 'hari': 1, 'WIB.': 1, 'membuka': 1, 'keunggulan': 2, 'menit': 3, 'ke-2': 1, 'melalui': 1, 'gol': 1, 'yang': 1, 'dicetak': 1, 'oleh': 1, 'Philippe': 1, 'Coutinho.': 1, 'Lionel': 1, 'Messi': 2, 'menggandakan': 1, 'Barcelona,': 2, '10': 1, 'berselang.': 1, 'Namun,': 1, 'nahas': 1, 'bagi': 1, 'karena': 1, 'harus': 1, 'ditarik': 1, 'keluar': 1, 'ke-26': 1, 'setelah': 1, 'mengalami': 1, 'cedera.': 1, 'Tanpa': 1, 'Messi,': 1, 'skor': 1, '2-0': 1, 'bertahan': 1, 'hingga': 1, 'babak': 1, 'pertama': 1, 'berakhir.': 1}\n"
     ]
    }
   ],
   "source": [
    "tcount = {}\n",
    "\n",
    "for char in text.split():\n",
    "    tcount.setdefault(char, 0)\n",
    "    tcount[char] += 1\n",
    "\n",
    "print(tcount)"
   ]
  }
 ],
 "metadata": {
  "hide_input": false,
  "kernelspec": {
   "display_name": "Python 3",
   "language": "python",
   "name": "python3"
  },
  "language_info": {
   "codemirror_mode": {
    "name": "ipython",
    "version": 3
   },
   "file_extension": ".py",
   "mimetype": "text/x-python",
   "name": "python",
   "nbconvert_exporter": "python",
   "pygments_lexer": "ipython3",
   "version": "3.7.7"
  },
  "toc": {
   "base_numbering": 1,
   "nav_menu": {},
   "number_sections": true,
   "sideBar": true,
   "skip_h1_title": false,
   "title_cell": "Table of Contents",
   "title_sidebar": "Contents",
   "toc_cell": false,
   "toc_position": {
    "height": "calc(100% - 180px)",
    "left": "10px",
    "top": "150px",
    "width": "384px"
   },
   "toc_section_display": true,
   "toc_window_display": true
  },
  "varInspector": {
   "cols": {
    "lenName": 16,
    "lenType": 16,
    "lenVar": 40
   },
   "kernels_config": {
    "python": {
     "delete_cmd_postfix": "",
     "delete_cmd_prefix": "del ",
     "library": "var_list.py",
     "varRefreshCmd": "print(var_dic_list())"
    },
    "r": {
     "delete_cmd_postfix": ") ",
     "delete_cmd_prefix": "rm(",
     "library": "var_list.r",
     "varRefreshCmd": "cat(var_dic_list()) "
    }
   },
   "types_to_exclude": [
    "module",
    "function",
    "builtin_function_or_method",
    "instance",
    "_Feature"
   ],
   "window_display": false
  }
 },
 "nbformat": 4,
 "nbformat_minor": 4
}
